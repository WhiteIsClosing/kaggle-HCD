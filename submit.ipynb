{
 "cells": [
  {
   "cell_type": "code",
   "execution_count": 1,
   "metadata": {},
   "outputs": [
    {
     "name": "stdout",
     "output_type": "stream",
     "text": [
      "0.4.1.post2\n"
     ]
    }
   ],
   "source": [
    "from __future__ import absolute_import\n",
    "from __future__ import division\n",
    "from __future__ import print_function\n",
    "\n",
    "import os\n",
    "import torch\n",
    "from src.model.HCD_resnet50 import Resnet50\n",
    "from src.predict import load_test_data, predict\n",
    "\n",
    "%matplotlib inline\n",
    "# for auto-reloading external modules\n",
    "# see http://stackoverflow.com/questions/1907993/autoreload-of-modules-in-ipython\n",
    "%load_ext autoreload\n",
    "%autoreload 2\n",
    "\n",
    "print (torch.__version__)"
   ]
  },
  {
   "cell_type": "code",
   "execution_count": 2,
   "metadata": {},
   "outputs": [
    {
     "name": "stdout",
     "output_type": "stream",
     "text": [
      "cuda:0\n"
     ]
    }
   ],
   "source": [
    "root_path = '/home/kwu/data/kaggle/HCD'\n",
    "test_data_path = os.path.join(root_path, 'test')\n",
    "test_csv_path = os.path.join(root_path, 'sample_submission.csv')\n",
    "model_path = '/home/kwu/Project/kaggle/HCD/2018-11-20-0.973458.pt'\n",
    "device = torch.device(\"cuda:0\" if torch.cuda.is_available() else \"cpu\")\n",
    "print (device)"
   ]
  },
  {
   "cell_type": "code",
   "execution_count": 3,
   "metadata": {},
   "outputs": [],
   "source": [
    "dataloader = load_test_data(root_path)"
   ]
  },
  {
   "cell_type": "code",
   "execution_count": 4,
   "metadata": {},
   "outputs": [],
   "source": [
    "submit_path = '/home/kwu/Project/kaggle/HCD/result/resnet50.csv'"
   ]
  },
  {
   "cell_type": "code",
   "execution_count": 5,
   "metadata": {},
   "outputs": [],
   "source": [
    "model_ft = Resnet50(2)\n",
    "model_ft.load_state_dict(torch.load(model_path))"
   ]
  },
  {
   "cell_type": "code",
   "execution_count": 6,
   "metadata": {},
   "outputs": [
    {
     "name": "stderr",
     "output_type": "stream",
     "text": [
      "predict: 100%|██████████| 57472/57472 [00:24<00:00, 2449.14it/s]\n"
     ]
    },
    {
     "name": "stdout",
     "output_type": "stream",
     "text": [
      "                                         id  label\n",
      "0  0b2ea2a822ad23fdb1b5dd26653da899fbd2c0d5      0\n",
      "1  95596b92e5066c5c52466c90b69ff089b39f2737      0\n",
      "2  248e6738860e2ebcf6258cdc1f32f299e0c76914      0\n",
      "3  2c35657e312966e9294eac6841726ff3a748febf      0\n",
      "4  145782eb7caa1c516acbe2eda34d9a3f31c41fd6      0\n"
     ]
    }
   ],
   "source": [
    "predict(\n",
    "    model=model_ft,\n",
    "    device=device,\n",
    "    dataloader=dataloader,\n",
    "    path=submit_path\n",
    ")"
   ]
  },
  {
   "cell_type": "code",
   "execution_count": null,
   "metadata": {},
   "outputs": [],
   "source": []
  }
 ],
 "metadata": {
  "kernelspec": {
   "display_name": "Python 3",
   "language": "python",
   "name": "python3"
  },
  "language_info": {
   "codemirror_mode": {
    "name": "ipython",
    "version": 3
   },
   "file_extension": ".py",
   "mimetype": "text/x-python",
   "name": "python",
   "nbconvert_exporter": "python",
   "pygments_lexer": "ipython3",
   "version": "3.6.4"
  }
 },
 "nbformat": 4,
 "nbformat_minor": 2
}
