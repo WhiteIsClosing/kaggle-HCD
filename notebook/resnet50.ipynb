{
 "cells": [
  {
   "cell_type": "code",
   "execution_count": 1,
   "metadata": {},
   "outputs": [
    {
     "name": "stdout",
     "output_type": "stream",
     "text": [
      "0.4.1.post2\n"
     ]
    }
   ],
   "source": [
    "from __future__ import absolute_import\n",
    "from __future__ import division\n",
    "from __future__ import print_function\n",
    "\n",
    "import os\n",
    "import pandas as pd\n",
    "\n",
    "import torch\n",
    "import torch.nn as nn\n",
    "import torch.optim as optim\n",
    "from torch.optim import lr_scheduler\n",
    "from torch.utils.data import DataLoader\n",
    "from sklearn.model_selection import train_test_split\n",
    "\n",
    "from src.transform.transform import data_transforms\n",
    "from src.data.dataset import HCDDataset\n",
    "from src.model.HCD_resnet50 import Resnet50\n",
    "from src.train import train_model\n",
    "\n",
    "%matplotlib inline\n",
    "# for auto-reloading external modules\n",
    "# see http://stackoverflow.com/questions/1907993/autoreload-of-modules-in-ipython\n",
    "%load_ext autoreload\n",
    "%autoreload 2\n",
    "\n",
    "print (torch.__version__)"
   ]
  },
  {
   "cell_type": "code",
   "execution_count": 2,
   "metadata": {},
   "outputs": [
    {
     "name": "stdout",
     "output_type": "stream",
     "text": [
      "cuda:0\n"
     ]
    }
   ],
   "source": [
    "device = torch.device(\"cuda:0\" if torch.cuda.is_available() else \"cpu\")\n",
    "print (device)\n",
    "root_path = '/home/kwu/data/kaggle/HCD'\n",
    "train_csv_path = os.path.join(root_path, 'train_labels.csv')\n",
    "train_data_path = os.path.join(root_path, 'train')\n",
    "test_data_path = os.path.join(root_path, 'test')"
   ]
  },
  {
   "cell_type": "code",
   "execution_count": 3,
   "metadata": {},
   "outputs": [],
   "source": [
    "def load_data():\n",
    "    \n",
    "    df = pd.read_csv(train_csv_path)\n",
    "    \n",
    "    data_df = {}\n",
    "    data_df['train'], data_df['val'] = train_test_split(\n",
    "        df,\n",
    "        test_size=0.1,\n",
    "        random_state=42,\n",
    "        shuffle=True,\n",
    "    )\n",
    "\n",
    "    datasets = {\n",
    "        x : HCDDataset(\n",
    "            root=root_path,\n",
    "            in_df=data_df[x],\n",
    "            transform=data_transforms[x],\n",
    "        )\n",
    "        for x in ['train', 'val']\n",
    "    }\n",
    "\n",
    "    dataloaders = {\n",
    "        x:DataLoader(\n",
    "            dataset=datasets[x],\n",
    "            batch_size=128,\n",
    "            shuffle=True,\n",
    "            num_workers=4\n",
    "        )\n",
    "        for x in ['train', 'val']\n",
    "    }\n",
    "\n",
    "    datasets_sizes = {x : len(datasets[x]) for x in ['train', 'val']}\n",
    "    \n",
    "    return dataloaders, datasets_sizes"
   ]
  },
  {
   "cell_type": "code",
   "execution_count": 4,
   "metadata": {},
   "outputs": [
    {
     "name": "stderr",
     "output_type": "stream",
     "text": [
      "Epoch train 0 : 100%|██████████| 198144/198144 [04:14<00:00, 779.81it/s, loss=0.17218]\n",
      "Epoch val 0 : 100%|██████████| 22016/22016 [00:10<00:00, 2189.25it/s, loss=0.13576]\n",
      "Epoch train 1 :   0%|          | 0/198144 [00:00<?, ?it/s]"
     ]
    },
    {
     "name": "stdout",
     "output_type": "stream",
     "text": [
      "train  Acc: 0.9157, val Acc: 0.9456\n"
     ]
    },
    {
     "name": "stderr",
     "output_type": "stream",
     "text": [
      "Epoch train 1 : 100%|██████████| 198144/198144 [04:13<00:00, 781.17it/s, loss=0.13329]\n",
      "Epoch val 1 : 100%|██████████| 22016/22016 [00:10<00:00, 2194.51it/s, loss=0.11464]\n",
      "Epoch train 2 :   0%|          | 0/198144 [00:00<?, ?it/s]"
     ]
    },
    {
     "name": "stdout",
     "output_type": "stream",
     "text": [
      "train  Acc: 0.9500, val Acc: 0.9566\n"
     ]
    },
    {
     "name": "stderr",
     "output_type": "stream",
     "text": [
      "Epoch train 2 : 100%|██████████| 198144/198144 [04:13<00:00, 780.41it/s, loss=0.11187]\n",
      "Epoch val 2 : 100%|██████████| 22016/22016 [00:10<00:00, 2198.56it/s, loss=0.12371]\n",
      "Epoch train 3 :   0%|          | 0/198144 [00:00<?, ?it/s]"
     ]
    },
    {
     "name": "stdout",
     "output_type": "stream",
     "text": [
      "train  Acc: 0.9610, val Acc: 0.9556\n"
     ]
    },
    {
     "name": "stderr",
     "output_type": "stream",
     "text": [
      "Epoch train 3 : 100%|██████████| 198144/198144 [04:13<00:00, 781.18it/s, loss=0.10480]\n",
      "Epoch val 3 : 100%|██████████| 22016/22016 [00:10<00:00, 2179.95it/s, loss=0.10161]\n",
      "Epoch train 4 :   0%|          | 0/198144 [00:00<?, ?it/s]"
     ]
    },
    {
     "name": "stdout",
     "output_type": "stream",
     "text": [
      "train  Acc: 0.9671, val Acc: 0.9642\n"
     ]
    },
    {
     "name": "stderr",
     "output_type": "stream",
     "text": [
      "Epoch train 4 : 100%|██████████| 198144/198144 [04:13<00:00, 781.69it/s, loss=0.07670]\n",
      "Epoch val 4 : 100%|██████████| 22016/22016 [00:10<00:00, 2190.65it/s, loss=0.09412]\n",
      "Epoch train 5 :   0%|          | 0/198144 [00:00<?, ?it/s]"
     ]
    },
    {
     "name": "stdout",
     "output_type": "stream",
     "text": [
      "train  Acc: 0.9720, val Acc: 0.9660\n"
     ]
    },
    {
     "name": "stderr",
     "output_type": "stream",
     "text": [
      "Epoch train 5 : 100%|██████████| 198144/198144 [04:13<00:00, 780.45it/s, loss=0.06916]\n",
      "Epoch val 5 : 100%|██████████| 22016/22016 [00:10<00:00, 2181.34it/s, loss=0.08539]\n",
      "Epoch train 6 :   0%|          | 0/198144 [00:00<?, ?it/s]"
     ]
    },
    {
     "name": "stdout",
     "output_type": "stream",
     "text": [
      "train  Acc: 0.9759, val Acc: 0.9695\n"
     ]
    },
    {
     "name": "stderr",
     "output_type": "stream",
     "text": [
      "Epoch train 6 : 100%|██████████| 198144/198144 [04:14<00:00, 779.24it/s, loss=0.05434]\n",
      "Epoch val 6 : 100%|██████████| 22016/22016 [00:10<00:00, 2176.50it/s, loss=0.09813]\n",
      "Epoch train 7 :   0%|          | 0/198144 [00:00<?, ?it/s]"
     ]
    },
    {
     "name": "stdout",
     "output_type": "stream",
     "text": [
      "train  Acc: 0.9790, val Acc: 0.9698\n"
     ]
    },
    {
     "name": "stderr",
     "output_type": "stream",
     "text": [
      "Epoch train 7 : 100%|██████████| 198144/198144 [04:13<00:00, 781.35it/s, loss=0.04225]\n",
      "Epoch val 7 : 100%|██████████| 22016/22016 [00:09<00:00, 2208.57it/s, loss=0.08111]\n",
      "Epoch train 8 :   0%|          | 0/198144 [00:00<?, ?it/s]"
     ]
    },
    {
     "name": "stdout",
     "output_type": "stream",
     "text": [
      "train  Acc: 0.9845, val Acc: 0.9733\n"
     ]
    },
    {
     "name": "stderr",
     "output_type": "stream",
     "text": [
      "Epoch train 8 : 100%|██████████| 198144/198144 [04:13<00:00, 780.58it/s, loss=0.04565]\n",
      "Epoch val 8 : 100%|██████████| 22016/22016 [00:10<00:00, 2197.22it/s, loss=0.08560]\n",
      "Epoch train 9 :   0%|          | 0/198144 [00:00<?, ?it/s]"
     ]
    },
    {
     "name": "stdout",
     "output_type": "stream",
     "text": [
      "train  Acc: 0.9856, val Acc: 0.9735\n"
     ]
    },
    {
     "name": "stderr",
     "output_type": "stream",
     "text": [
      "Epoch train 9 : 100%|██████████| 198144/198144 [04:13<00:00, 781.19it/s, loss=0.07374]\n",
      "Epoch val 9 : 100%|██████████| 22016/22016 [00:10<00:00, 2197.10it/s, loss=0.09065]\n"
     ]
    },
    {
     "name": "stdout",
     "output_type": "stream",
     "text": [
      "train  Acc: 0.9869, val Acc: 0.9705\n",
      "Training complete in 43m 59s\n",
      "Best val ACC :0.973458\n"
     ]
    }
   ],
   "source": [
    "dataloaders, datasets_sizes = load_data()\n",
    "\n",
    "model_ft = Resnet50(2)\n",
    "\n",
    "model_ft = model_ft.to(device)\n",
    "criterion = nn.CrossEntropyLoss()\n",
    "optimizer_ft = optim.SGD(\n",
    "    filter(lambda p: p.requires_grad, model_ft.parameters()),\n",
    "    lr=0.001,\n",
    "    momentum=0.9\n",
    ")\n",
    "\n",
    "exp_lr_scheduler = lr_scheduler.StepLR(optimizer_ft, step_size=7, gamma=0.1)\n",
    "\n",
    "model_ft = train_model(\n",
    "    model=model_ft,\n",
    "    device=device,\n",
    "    dataloaders=dataloaders,\n",
    "    datasets_sizes=datasets_sizes,\n",
    "    criterion=criterion,\n",
    "    optimizer=optimizer_ft,\n",
    "    scheduler=exp_lr_scheduler,\n",
    "    num_epoches=10\n",
    ")\n"
   ]
  },
  {
   "cell_type": "code",
   "execution_count": 7,
   "metadata": {},
   "outputs": [],
   "source": [
    "torch.save(model_ft.state_dict(),'2018-11-20-0.973458.pt')"
   ]
  },
  {
   "cell_type": "code",
   "execution_count": null,
   "metadata": {},
   "outputs": [],
   "source": []
  }
 ],
 "metadata": {
  "kernelspec": {
   "display_name": "Python 3",
   "language": "python",
   "name": "python3"
  },
  "language_info": {
   "codemirror_mode": {
    "name": "ipython",
    "version": 3
   },
   "file_extension": ".py",
   "mimetype": "text/x-python",
   "name": "python",
   "nbconvert_exporter": "python",
   "pygments_lexer": "ipython3",
   "version": "3.6.4"
  }
 },
 "nbformat": 4,
 "nbformat_minor": 2
}
